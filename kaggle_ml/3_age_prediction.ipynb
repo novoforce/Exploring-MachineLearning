{
 "cells": [
  {
   "cell_type": "code",
   "execution_count": null,
   "source": [],
   "outputs": [],
   "metadata": {}
  }
 ],
 "metadata": {
  "orig_nbformat": 4,
  "language_info": {
   "name": "python",
   "version": "3.8.8"
  },
  "kernelspec": {
   "name": "python3",
   "display_name": "Python 3.8.8 64-bit ('ai': conda)"
  },
  "interpreter": {
   "hash": "755b88938fec7dcdf4190d5e77e678383f0d8e291fa2bee0c38b3b48fa25e5ea"
  }
 },
 "nbformat": 4,
 "nbformat_minor": 2
}